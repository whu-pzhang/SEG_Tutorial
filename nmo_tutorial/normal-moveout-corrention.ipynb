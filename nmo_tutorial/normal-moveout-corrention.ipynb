{
 "cells": [
  {
   "cell_type": "markdown",
   "metadata": {},
   "source": [
    "打开任何一本地震数据处理的教材，都会有正常时差校正(Normal-Moveout Corrention)的章节。我们对共中心点剖面应用NMO可将双曲型的反射剖面校正为水平剖面，但是课本上只是列出公式，具体怎么做呢？\n",
    "\n",
    "$$\n",
    "t_0^2 = t^2 - \\frac{x^2}{v_{NMO}^2}\n",
    "$$\n",
    "\n",
    "这里，$v_{NMO}$ 为NMO 速度，$x$ 为炮点和接收点之间的距离（offset），$v$ 为反射界面之上的地层速度。$t_0$ 为垂直路线MD的双程旅行时。只有反射界面为水平时，深度点D在地表的投影才与中心点M重合。\n",
    "\n",
    "![CMP](http://wiki.seg.org/images/d/df/Ch03_fig1-1.png)\n",
    "\n",
    "\n",
    "上述公式将走时联系在一起，我们可以测量的$t$ 以及我们想知道的$t_0$。\n",
    "但实际上，CMP道集的数据是时间t和offset函数的振幅矩阵。NMO校正后的道集同样如此。\n",
    "因此我们做NMO校正实际上是将一种振幅转换为另一种振幅，但是我们的公式中却压根儿没有振幅！！\n",
    "\n",
    "这就是公式和实际实现NMO校正的差异。"
   ]
  },
  {
   "cell_type": "code",
   "execution_count": 1,
   "metadata": {
    "collapsed": true
   },
   "outputs": [],
   "source": [
    "%matplotlib inline\n",
    "import numpy as np\n",
    "from scipy.interpolate import CubicSpline\n",
    "import matplotlib.pyplot as plt"
   ]
  },
  {
   "cell_type": "code",
   "execution_count": 2,
   "metadata": {},
   "outputs": [
    {
     "name": "stdout",
     "output_type": "stream",
     "text": [
      "('Data in the archive:', ['dt', 'offsets', 'CMP'])\n"
     ]
    }
   ],
   "source": [
    "data = np.load('data/synthetic_cmp.npz')\n",
    "print(\"Data in the archive:\", data.keys())"
   ]
  },
  {
   "cell_type": "code",
   "execution_count": 3,
   "metadata": {},
   "outputs": [
    {
     "name": "stdout",
     "output_type": "stream",
     "text": [
      "dt = 0.000456783919598 s\n",
      "('offsets =', array([120, 180, 240, 300, 360, 420, 480, 540, 600, 660, 720, 780, 840, 900]))\n",
      "N samples = 1200\n",
      "N offsets = 14\n"
     ]
    }
   ],
   "source": [
    "dt = data['dt']\n",
    "offsets = data['offsets']\n",
    "cmp = data['CMP']\n",
    "nsamples = cmp.shape[0]\n",
    "noffsets = cmp.shape[1]\n",
    "print('dt = {} s'.format(dt))\n",
    "print('offsets =', offsets)\n",
    "print('N samples = {}'.format(nsamples))\n",
    "print('N offsets = {}'.format(noffsets))"
   ]
  },
  {
   "cell_type": "code",
   "execution_count": 4,
   "metadata": {},
   "outputs": [
    {
     "data": {
      "image/png": "[encoded data removed]",
      "text/plain": [
       "<matplotlib.figure.Figure at 0x2b2d6cadf790>"
      ]
     },
     "metadata": {},
     "output_type": "display_data"
    }
   ],
   "source": [
    "fig = plt.figure(figsize=(6,5))\n",
    "ax = plt.subplot(111)\n",
    "ax.set_title('Synthetic CMP')\n",
    "ax.set_xlabel('trace number')\n",
    "ax.set_ylabel('time (s)')\n",
    "cutoff = 0.1\n",
    "ax.imshow(cmp, extent=[0.5, noffsets + 0.5, dt*nsamples, 0], \n",
    "          aspect=20, cmap='Greys', vmin=-cutoff, vmax=cutoff, \n",
    "          interpolation='none')\n",
    "\n",
    "trace_numbers = list(range(1, noffsets + 1))\n",
    "ax.set_xticks(trace_numbers)\n",
    "fig.tight_layout()"
   ]
  },
  {
   "cell_type": "markdown",
   "metadata": {},
   "source": [
    "1. 直达波\n",
    "2. 第一界面反射波\n",
    "3. 第一个界面多次波\n",
    "4. 第二个界面的反射波"
   ]
  },
  {
   "cell_type": "markdown",
   "metadata": {
    "collapsed": true
   },
   "source": [
    "## NMO correction\n",
    "\n",
    "NMO correction的算法如下：\n",
    "\n",
    "1. 从填充0的NMO道集开始\n",
    "2. 对NMO道集中的每个点$(t_0, x)$ ：\n",
    "    - 用给出的$v_{NMO}$计算反射走时\n",
    "    - 在offset为$x$的CMP道中找到走时为$t$的前后各两个采样点\n",
    "    - 如果$t$比记录时间大或者$t$后面没有两个采样点了，则跳过接下来的两步。\n",
    "    - 用找到的四个采样点的振幅来插值得到时间$t$处的振幅\n",
    "    - 将插值得到的振幅复制到NMO道集中$(t_0, x)$的位置\n",
    "\n",
    "这里使用三个函数来实现整个算法，"
   ]
  },
  {
   "cell_type": "code",
   "execution_count": 5,
   "metadata": {
    "collapsed": true
   },
   "outputs": [],
   "source": [
    "def nmo_correction(cmp, dt, offsets, velocities):\n",
    "    \"\"\"\n",
    "    Performs NMO correction on the given CMP.\n",
    "    \n",
    "    The units must be consistent. E.g., if dt is seconds and\n",
    "    offsets is meters, velocities must be m/s.\n",
    "    \n",
    "    Parameters\n",
    "    -----------\n",
    "    \n",
    "    cmp : 2D array\n",
    "        The CMP gather that we want to corrent.\n",
    "    dt : float\n",
    "        The sampling interval.\n",
    "    offsets : 1D array\n",
    "        An array with the offset of each trace in the CMP.\n",
    "    velocities  : 1D array\n",
    "        An array with the NMO velocity for each time. Should\n",
    "        have the same number of elements as the CMP has samples.\n",
    "        \n",
    "    Returns\n",
    "    --------\n",
    "    \n",
    "    nmo : 2D array\n",
    "        The NMO corrected gather.\n",
    "    \"\"\"\n",
    "    nmo = np.zeros_like(cmp)\n",
    "    nsamples = cmp.shape[0]\n",
    "    times = np.arange(0, nsamples*dt, dt)\n",
    "    for i, t0 in enumerate(times):\n",
    "        for j, x in enumerate(offsets):\n",
    "            t = reflection_time(t0, x, velocities[i])\n",
    "            amplitude = sample_trace(cmp[:, j], t, dt)\n",
    "            # If the time t is outsied of the CMP time\n",
    "            # amplitude will be None.\n",
    "            if amplitude is not None:\n",
    "                nmo[i, j] = amplitude\n",
    "    return nmo"
   ]
  },
  {
   "cell_type": "markdown",
   "metadata": {},
   "source": [
    "现在我们可以实现具体的细节。首先，我们需要计算反射的走时:\n",
    "\n",
    "$$\n",
    "t = \\sqrt { t_0^2 + \\frac{ x^2 } {v_{NMO}^2} }\n",
    "$$"
   ]
  },
  {
   "cell_type": "code",
   "execution_count": 19,
   "metadata": {
    "collapsed": true
   },
   "outputs": [],
   "source": [
    "def reflection_time(t0, x, vnmo):\n",
    "    \"\"\"\n",
    "    Calculate the travel-time of a reflected wave.\n",
    "    \n",
    "    Doesn't consider refractions or changes in velocity.\n",
    "    \n",
    "    The units must be consistent. E.g., if t0 is seconds and\n",
    "    x is meters, vnmo must be m/s.\n",
    "    \n",
    "    Parameters\n",
    "    ----------\n",
    "    \n",
    "    t0 : float\n",
    "        The zero-offset (normal incidence) travel-time.\n",
    "    x : float\n",
    "        The offset of the receiver.\n",
    "    vnmo : float\n",
    "        The NMO velocity.\n",
    "        \n",
    "    Return\n",
    "    ------\n",
    "    \n",
    "    t : float\n",
    "        The reflection travel-time.\n",
    "    \"\"\"\n",
    "    t = np.sqrt(t0**2 + x**2/vnmo**2)\n",
    "    return t"
   ]
  },
  {
   "cell_type": "markdown",
   "metadata": {},
   "source": [
    "我们应先测试这个函数是否工作。办法就是用一个简单例子：若offset为0，那么$t$应该等于$t_0$"
   ]
  },
  {
   "cell_type": "code",
   "execution_count": 30,
   "metadata": {
    "collapsed": true
   },
   "outputs": [],
   "source": [
    "assert reflection_time(t0=4, x=0, vnmo=1000.) == 4, \"Failed test\""
   ]
  },
  {
   "cell_type": "markdown",
   "metadata": {},
   "source": [
    "并没有输出 \"Failed test\", 说明测试通过了。我们也可以通过可视化的方式来测试，正确的话，走时曲线应该是双曲型的。\n",
    "\n",
    "我们知道第一层的真实速度为 4000m/s，而且中CMP 道集图上看，知道走时大概为0.2s."
   ]
  },
  {
   "cell_type": "code",
   "execution_count": 31,
   "metadata": {},
   "outputs": [
    {
     "data": {
      "image/png": "[encoded data removed]",
      "text/plain": [
       "<matplotlib.figure.Figure at 0x2b2d6ffe4fd0>"
      ]
     },
     "metadata": {},
     "output_type": "display_data"
    }
   ],
   "source": [
    "reflect_times = reflection_time(t0=0.2, x=offsets, vnmo=4000.)\n",
    "\n",
    "\n",
    "fig = plt.figure(figsize=(6, 5))\n",
    "ax = plt.subplot(111)\n",
    "ax.set_xlabel('trace number')\n",
    "ax.set_ylabel('time (s)')\n",
    "cutoff = 0.1\n",
    "ax.imshow(cmp, extent=[0.5, noffsets + 0.5, dt*nsamples, 0], \n",
    "          aspect=20, cmap='Greys', vmin=-cutoff, vmax=cutoff, \n",
    "          interpolation='none')\n",
    "trace_numbers = list(range(1, noffsets + 1))\n",
    "plt.plot(trace_numbers, reflect_times, '-r', linewidth=3)\n",
    "ax.set_xticks(trace_numbers)\n",
    "ax.set_ylim(nsamples*dt, 0)\n",
    "ax.set_xlim(0.5, noffsets + 0.5)\n",
    "fig.tight_layout()"
   ]
  },
  {
   "cell_type": "markdown",
   "metadata": {},
   "source": [
    "看起来很合理。\n",
    "\n",
    "最后的部分是最棘手的：在CMP中找到相应的时间点并做插值得到振幅。"
   ]
  },
  {
   "cell_type": "code",
   "execution_count": 34,
   "metadata": {},
   "outputs": [],
   "source": [
    "def smaple_trace(trace, time, dt):\n",
    "    \"\"\"\n",
    "    Sample an amplitude at a given time using interpolation.\n",
    "    \n",
    "    Parameters\n",
    "    ----------\n",
    "    \n",
    "    trace : 1D array\n",
    "        Array containing the amplitude of a single trace.\n",
    "    time : float\n",
    "        The time at which I want to sample the amplitude.\n",
    "    dt : float\n",
    "        The sampling interval\n",
    "    \n",
    "    Returns\n",
    "    -------\n",
    "    \n",
    "    amplitude : float or None\n",
    "        The interpolated amplitude. Will be None if *time*\n",
    "        is beyond the end of the trace or if there are less\n",
    "        than 2 points between *time* and the end.\n",
    "    \"\"\"\n",
    "    # The floor function will given us the integer\n",
    "    # right behind a given float.\n",
    "    # Use it ti get the sample number that is right\n",
    "    # before our desired time.\n",
    "    before = int(np.floor(time/dt))\n",
    "    N = trace.size\n",
    "    # Use the 4 samples around time to interpolate\n",
    "    smaples = np.arange(before -1, before + 3)\n",
    "    if any(samples < 0) or any(samples > N):\n",
    "        amplitude = None\n",
    "    else:\n",
    "        times = dt*samples\n",
    "        amps = trace[samples]\n",
    "        interpolator = CubicSpline(times, amps)\n",
    "        amplitude = interpolator(time)\n",
    "    return amplitude"
   ]
  },
  {
   "cell_type": "markdown",
   "metadata": {},
   "source": [
    "TEST"
   ]
  },
  {
   "cell_type": "code",
   "execution_count": null,
   "metadata": {
    "collapsed": true
   },
   "outputs": [],
   "source": []
  }
 ],
 "metadata": {
  "kernelspec": {
   "display_name": "Python 3",
   "language": "python",
   "name": "python3"
  },
  "language_info": {
   "codemirror_mode": {
    "name": "ipython",
    "version": 2
   },
   "file_extension": ".py",
   "mimetype": "text/x-python",
   "name": "python",
   "nbconvert_exporter": "python",
   "pygments_lexer": "ipython2",
   "version": "2.7.13"
  }
 },
 "nbformat": 4,
 "nbformat_minor": 2
}
