{
 "cells": [
  {
   "cell_type": "markdown",
   "metadata": {},
   "source": [
    "打开任何一本地震数据处理的教材，都会有正常时差校正(Normal-Moveout Corrention)的章节。我们对共中心点剖面应用NMO可将双曲型的反射剖面校正为水平剖面，但是课本上只是列出公式，具体怎么做呢？\n",
    "\n",
    "$$\n",
    "t_0^2 = t^2 - \\frac{x^2}{v_{NMO}^2}\n",
    "$$\n",
    "\n",
    "这里，$v_{NMO}$ 为NMO 速度，$x$ 为炮点和接收点之间的距离（offset），$v$ 为反射界面之上的地层速度。$t_0$ 为垂直路线MD的双程旅行时。只有反射界面为水平时，深度点D在地表的投影才与中心点M重合。\n",
    "\n",
    "![CMP](http://wiki.seg.org/images/d/df/Ch03_fig1-1.png)\n",
    "\n",
    "\n",
    "上述公式将走时联系在一起，我们可以测量的$t$ 以及我们想知道的$t_0$。\n",
    "但实际上，CMP道集的数据是时间t和offset函数的振幅矩阵。NMO校正后的道集同样如此。\n",
    "因此我们做NMO校正实际上是将一种振幅转换为另一种振幅，但是我们的公式中却压根儿没有振幅！！\n",
    "\n",
    "这就是公式和实际实现NMO校正的差异。"
   ]
  },
  {
   "cell_type": "code",
   "execution_count": 11,
   "metadata": {
    "collapsed": true
   },
   "outputs": [],
   "source": [
    "%matplotlib inline\n",
    "import numpy as np\n",
    "from scipy.interpolate import CubicSpline\n",
    "import matplotlib.pyplot as plt"
   ]
  },
  {
   "cell_type": "code",
   "execution_count": 2,
   "metadata": {},
   "outputs": [
    {
     "name": "stdout",
     "output_type": "stream",
     "text": [
      "Data in the archive: ['dt', 'offsets', 'CMP']\n"
     ]
    }
   ],
   "source": [
    "data = np.load('data/synthetic_cmp.npz')\n",
    "print(\"Data in the archive:\", data.keys())"
   ]
  },
  {
   "cell_type": "code",
   "execution_count": 3,
   "metadata": {},
   "outputs": [
    {
     "name": "stdout",
     "output_type": "stream",
     "text": [
      "dt = 0.00045678391959799 s\n",
      "offsets = [120 180 240 300 360 420 480 540 600 660 720 780 840 900]\n",
      "N samples = 1200\n",
      "N offsets = 14\n"
     ]
    }
   ],
   "source": [
    "dt = data['dt']\n",
    "offsets = data['offsets']\n",
    "cmp = data['CMP']\n",
    "nsamples = cmp.shape[0]\n",
    "noffsets = cmp.shape[1]\n",
    "print('dt = {} s'.format(dt))\n",
    "print('offsets =', offsets)\n",
    "print('N samples = {}'.format(nsamples))\n",
    "print('N offsets = {}'.format(noffsets))"
   ]
  },
  {
   "cell_type": "code",
   "execution_count": 15,
   "metadata": {},
   "outputs": [
    {
     "data": {
      "image/png": "[encoded data removed]",
      "text/plain": [
       "<matplotlib.figure.Figure at 0x2b81588a2b70>"
      ]
     },
     "metadata": {},
     "output_type": "display_data"
    }
   ],
   "source": [
    "fig = plt.figure(figsize=(6,5))\n",
    "ax = plt.subplot(111)\n",
    "ax.set_title('Synthetic CMP')\n",
    "ax.set_xlabel('trace number')\n",
    "ax.set_ylabel('time (s)')\n",
    "cutoff = 0.1\n",
    "ax.imshow(cmp, extent=[0.5, noffsets + 0.5, dt*nsamples, 0], \n",
    "          aspect=20, cmap='Greys', vmin=-cutoff, vmax=cutoff, \n",
    "          interpolation='none')\n",
    "\n",
    "trace_numbers = list(range(1, noffsets + 1))\n",
    "ax.set_xticks(trace_numbers)\n",
    "fig.tight_layout()"
   ]
  },
  {
   "cell_type": "markdown",
   "metadata": {},
   "source": [
    "1. 直达波\n",
    "2. 第一界面反射波\n",
    "3. 第一个界面多次波\n",
    "4. 第二个界面的反射波"
   ]
  },
  {
   "cell_type": "code",
   "execution_count": 16,
   "metadata": {},
   "outputs": [
    {
     "data": {
      "text/plain": [
       "'/home/pzhang/Desktop/Workspace/SEG_Tutorial/nmo_tutorial'"
      ]
     },
     "execution_count": 16,
     "metadata": {},
     "output_type": "execute_result"
    }
   ],
   "source": [
    "%pwd"
   ]
  },
  {
   "cell_type": "code",
   "execution_count": null,
   "metadata": {
    "collapsed": true
   },
   "outputs": [],
   "source": []
  }
 ],
 "metadata": {
  "kernelspec": {
   "display_name": "Python 3",
   "language": "python",
   "name": "python3"
  },
  "language_info": {
   "codemirror_mode": {
    "name": "ipython",
    "version": 3
   },
   "file_extension": ".py",
   "mimetype": "text/x-python",
   "name": "python",
   "nbconvert_exporter": "python",
   "pygments_lexer": "ipython3",
   "version": "3.6.1"
  }
 },
 "nbformat": 4,
 "nbformat_minor": 2
}
