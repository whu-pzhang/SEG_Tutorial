{
 "cells": [
  {
   "cell_type": "markdown",
   "metadata": {},
   "source": [
    "# Discontinuity attributes\n",
    "\n",
    "不连续性计算，也叫做一致性或者 semblance，是最为常用的地震属性。它们的测定考虑相邻地震道的相似性。\n",
    "\n",
    "## 介绍\n",
    "\n",
    "\n",
    "实际中，大多数的不连续属性计算都包含于商业软件中。"
   ]
  },
  {
   "cell_type": "markdown",
   "metadata": {},
   "source": [
    "## 早期算法——互相关\n",
    "\n",
    "最早的不连续性算法利用三个地震道的最大互相关值来表示。每道和相邻的两道数据做滑动窗互相关。Bahorich and Farmer (1995)称其为 coherency。"
   ]
  }
 ],
 "metadata": {
  "kernelspec": {
   "display_name": "Python 3",
   "language": "python",
   "name": "python3"
  },
  "language_info": {
   "codemirror_mode": {
    "name": "ipython",
    "version": 3
   },
   "file_extension": ".py",
   "mimetype": "text/x-python",
   "name": "python",
   "nbconvert_exporter": "python",
   "pygments_lexer": "ipython3",
   "version": "3.6.1"
  }
 },
 "nbformat": 4,
 "nbformat_minor": 2
}
